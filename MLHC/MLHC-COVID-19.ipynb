{
 "cells": [
  {
   "cell_type": "code",
   "execution_count": 75,
   "metadata": {},
   "outputs": [],
   "source": [
    "from sklearn.metrics import classification_report, confusion_matrix\n",
    "from sklearn.metrics import f1_score, accuracy_score, recall_score, precision_score\n",
    "from sklearn import metrics\n",
    "from sklearn.metrics import roc_auc_score\n",
    "import joblib\n",
    "import numpy as np"
   ]
  },
  {
   "cell_type": "code",
   "execution_count": 76,
   "metadata": {},
   "outputs": [],
   "source": [
    "from load_data_MLHC import load_test_data\n",
    "\n",
    "## Run only for the first time\n",
    "# X_test, y_test = load_test_data()\n",
    "\n",
    "## Run after you got data in .npy format\n",
    "X_test, y_test = np.load('x_test_MLHC.npy'), np.load('y_test_MLHC.npy')"
   ]
  },
  {
   "cell_type": "code",
   "execution_count": 77,
   "metadata": {},
   "outputs": [],
   "source": [
    "from sklearn.metrics import classification_report, confusion_matrix\n",
    "from sklearn.metrics import f1_score, accuracy_score, recall_score, precision_score\n",
    "from imblearn.over_sampling import SMOTE\n",
    "from tensorflow.keras.models import load_model"
   ]
  },
  {
   "cell_type": "code",
   "execution_count": 78,
   "metadata": {},
   "outputs": [],
   "source": [
    "Model_healthy = load_model('../Layer-I/model_layer1/NN')\n",
    "y_pred_healthy = Model_healthy.predict(X_test)\n",
    "y_true_healthy = y_test"
   ]
  },
  {
   "cell_type": "code",
   "execution_count": 79,
   "metadata": {},
   "outputs": [],
   "source": [
    "# For NN\n",
    "y_pred_healthy_NN = np.argmax(y_pred_healthy,axis=1)\n",
    "position = []\n",
    "y_pred_multiclass = []\n",
    "\n",
    "for i in range(len(y_pred_healthy_NN)):\n",
    "    if y_pred_healthy_NN[i] == 1:\n",
    "        y_pred_multiclass.append(2)\n",
    "        position.append(i)"
   ]
  },
  {
   "cell_type": "code",
   "execution_count": 80,
   "metadata": {},
   "outputs": [],
   "source": [
    "# # For ML\n",
    "# position = []\n",
    "# y_pred_multiclass = []\n",
    "\n",
    "# for i in range(len(y_pred_healthy)):\n",
    "#     if y_pred_healthy[i] == 1:\n",
    "#         y_pred_multiclass.append(2)\n",
    "#         position.append(i)"
   ]
  },
  {
   "cell_type": "code",
   "execution_count": 81,
   "metadata": {},
   "outputs": [],
   "source": [
    "X_test_multiclass = []\n",
    "y_true_multiclass = []"
   ]
  },
  {
   "cell_type": "code",
   "execution_count": 82,
   "metadata": {},
   "outputs": [],
   "source": [
    "X_test = X_test.tolist()\n",
    "y_test = y_test.tolist()\n",
    "for i in reversed(range(len(position))):\n",
    "    \n",
    "    pop_x = X_test.pop(position[i])\n",
    "    pop_y = y_test.pop(position[i])\n",
    "    X_test_multiclass.append(pop_x)\n",
    "    y_true_multiclass.append(pop_y)"
   ]
  },
  {
   "cell_type": "code",
   "execution_count": 83,
   "metadata": {
    "tags": []
   },
   "outputs": [
    {
     "name": "stdout",
     "output_type": "stream",
     "text": [
      "404\n",
      "404\n",
      "404\n"
     ]
    }
   ],
   "source": [
    "print(len(X_test_multiclass))\n",
    "print(len(y_true_multiclass))\n",
    "print(len(y_pred_multiclass))"
   ]
  },
  {
   "cell_type": "code",
   "execution_count": 84,
   "metadata": {},
   "outputs": [
    {
     "name": "stdout",
     "output_type": "stream",
     "text": [
      "856\n",
      "856\n"
     ]
    }
   ],
   "source": [
    "print(len(X_test))\n",
    "print(len(y_test))"
   ]
  },
  {
   "cell_type": "code",
   "execution_count": 85,
   "metadata": {},
   "outputs": [],
   "source": [
    "Model_COVID = joblib.load('../Layer-II/model_layer2/Layer2_SVM.model')\n",
    "y_pred_COVID = Model_COVID.predict(X_test)\n",
    "y_true_COVID = y_test"
   ]
  },
  {
   "cell_type": "code",
   "execution_count": 86,
   "metadata": {},
   "outputs": [],
   "source": [
    "# For ML\n",
    "y_pred_COVID = y_pred_COVID.tolist()"
   ]
  },
  {
   "cell_type": "code",
   "execution_count": 87,
   "metadata": {},
   "outputs": [
    {
     "name": "stdout",
     "output_type": "stream",
     "text": [
      "              precision    recall  f1-score   support\n",
      "\n",
      "    COVID-19       0.98      0.99      0.98       420\n",
      "Non-COVID-19       0.93      0.96      0.94       420\n",
      "     Healthy       0.96      0.93      0.94       420\n",
      "\n",
      "    accuracy                           0.96      1260\n",
      "   macro avg       0.96      0.96      0.96      1260\n",
      "weighted avg       0.96      0.96      0.96      1260\n",
      "\n",
      "====================================================================================================\n",
      "[[415   2   3]\n",
      " [  6 402  12]\n",
      " [  4  27 389]]\n",
      "====================================================================================================\n"
     ]
    }
   ],
   "source": [
    "# #For ML\n",
    "print(classification_report(y_true_multiclass+y_true_COVID, y_pred_multiclass+y_pred_COVID, target_names=[\"COVID-19\",\"Non-COVID-19\",\"Healthy\"]))\n",
    "cnf_matrix = confusion_matrix(y_true_multiclass+y_true_COVID, y_pred_multiclass+y_pred_COVID)\n",
    "print('=' * 100)\n",
    "print(cnf_matrix)\n",
    "print('=' * 100)"
   ]
  },
  {
   "cell_type": "code",
   "execution_count": 88,
   "metadata": {},
   "outputs": [],
   "source": [
    "import matplotlib.pyplot as plt\n",
    "from sklearn.metrics import plot_confusion_matrix"
   ]
  },
  {
   "cell_type": "code",
   "execution_count": 89,
   "metadata": {},
   "outputs": [],
   "source": [
    "def plot_confusion_matrix(cm, classes,\n",
    "                          normalize=False,\n",
    "                          title='Confusion matrix',\n",
    "                          cmap=plt.cm.Blues):\n",
    "    \"\"\"\n",
    "    This function prints and plots the confusion matrix.\n",
    "    Normalization can be applied by setting `normalize=True`.\n",
    "    \"\"\"\n",
    "    import itertools\n",
    "    if normalize:\n",
    "        cm = cm.astype('float') / cm.sum(axis=1)[:, np.newaxis]\n",
    "        print(\"Normalized confusion matrix\")\n",
    "    else:\n",
    "        print('Confusion matrix, without normalization')\n",
    "\n",
    "    print(cm)\n",
    "\n",
    "    plt.imshow(cm, interpolation='nearest', cmap=cmap)\n",
    "    plt.title(title)\n",
    "    plt.colorbar()\n",
    "    tick_marks = np.arange(len(classes))\n",
    "    plt.xticks(tick_marks, classes, rotation=45)\n",
    "    plt.yticks(tick_marks, classes)\n",
    "\n",
    "    fmt = '.2f' if normalize else 'd'\n",
    "    thresh = cm.max() / 2.\n",
    "    for i, j in itertools.product(range(cm.shape[0]), range(cm.shape[1])):\n",
    "        plt.text(j, i, format(cm[i, j], fmt),\n",
    "                 horizontalalignment=\"center\",\n",
    "                 color=\"white\" if cm[i, j] > thresh else \"black\")\n",
    "\n",
    "    plt.ylabel('True label')\n",
    "    plt.xlabel('Predicted label')\n",
    "    plt.tight_layout()"
   ]
  },
  {
   "cell_type": "code",
   "execution_count": 90,
   "metadata": {},
   "outputs": [
    {
     "name": "stdout",
     "output_type": "stream",
     "text": [
      "Confusion matrix, without normalization\n",
      "[[415   2   3]\n",
      " [  6 402  12]\n",
      " [  4  27 389]]\n"
     ]
    },
    {
     "data": {
      "image/png": "[encoded data removed]",
      "text/plain": [
       "<Figure size 432x288 with 2 Axes>"
      ]
     },
     "metadata": {
      "needs_background": "light"
     },
     "output_type": "display_data"
    }
   ],
   "source": [
    "np.set_printoptions(precision=2)\n",
    "\n",
    "# Plot non-normalized confusion matrix\n",
    "plt.figure()\n",
    "plot_confusion_matrix(cnf_matrix, classes=[\"COVID-19\",\"Non-COVID-19\",\"Healthy\"],\n",
    "                      title='Confusion matrix, without normalization')"
   ]
  }
 ],
 "metadata": {
  "interpreter": {
   "hash": "2bb48a7cf09d4aba20ce2cdaf5a24c657471ddec0e3b2aac6174a5ac087d6c20"
  },
  "kernelspec": {
   "display_name": "Python 3.8.11 64-bit ('covid': conda)",
   "name": "python3"
  },
  "language_info": {
   "codemirror_mode": {
    "name": "ipython",
    "version": 3
   },
   "file_extension": ".py",
   "mimetype": "text/x-python",
   "name": "python",
   "nbconvert_exporter": "python",
   "pygments_lexer": "ipython3",
   "version": "3.8.11"
  },
  "orig_nbformat": 2
 },
 "nbformat": 4,
 "nbformat_minor": 2
}
